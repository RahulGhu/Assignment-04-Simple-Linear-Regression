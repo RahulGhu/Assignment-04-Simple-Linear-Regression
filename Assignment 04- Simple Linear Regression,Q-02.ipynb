{
 "cells": [
  {
   "cell_type": "markdown",
   "id": "207dde53",
   "metadata": {},
   "source": [
    "Assignment 04 , question - 02"
   ]
  },
  {
   "cell_type": "code",
   "execution_count": null,
   "id": "c2bac996",
   "metadata": {},
   "outputs": [],
   "source": [
    "# important libraries \n",
    "import pandas as pd\n",
    "import numpy as np\n",
    "import matplotlib.pyplot as plt\n",
    "import seaborn as sns\n",
    "import statsmodels.formula.api as smf"
   ]
  },
  {
   "cell_type": "code",
   "execution_count": null,
   "id": "5a4a5e7c",
   "metadata": {},
   "outputs": [],
   "source": [
    "# data handling \n",
    "Salary_hike  = pd.read_csv(\"D:\\Data Science Material\\Assignments\\Simple Linear Regression assignment\\Salary_Data.csv\")"
   ]
  },
  {
   "cell_type": "code",
   "execution_count": null,
   "id": "492e41c6",
   "metadata": {},
   "outputs": [],
   "source": [
    "Salary_hike.head()"
   ]
  },
  {
   "cell_type": "code",
   "execution_count": null,
   "id": "5f6928ea",
   "metadata": {},
   "outputs": [],
   "source": [
    "Salary_hike.describe()"
   ]
  },
  {
   "cell_type": "code",
   "execution_count": null,
   "id": "17b73feb",
   "metadata": {},
   "outputs": [],
   "source": [
    "Salary_hike.isna().sum()    # sum of null values"
   ]
  },
  {
   "cell_type": "code",
   "execution_count": null,
   "id": "85b44c46",
   "metadata": {},
   "outputs": [],
   "source": [
    "Salary_hike.info()  # info about data"
   ]
  },
  {
   "cell_type": "code",
   "execution_count": null,
   "id": "54bd7119",
   "metadata": {
    "scrolled": false
   },
   "outputs": [],
   "source": [
    "Salary_hike.duplicated()  # duplicated records"
   ]
  },
  {
   "cell_type": "code",
   "execution_count": null,
   "id": "ae81d5e6",
   "metadata": {},
   "outputs": [],
   "source": [
    "Salary_hike.YearsExperience.head()"
   ]
  },
  {
   "cell_type": "code",
   "execution_count": null,
   "id": "df80d986",
   "metadata": {},
   "outputs": [],
   "source": [
    "Salary_hike.Salary.head()"
   ]
  },
  {
   "cell_type": "code",
   "execution_count": null,
   "id": "4c706182",
   "metadata": {},
   "outputs": [],
   "source": [
    "Salary_hike.corr()  # relation betn 2 cols"
   ]
  },
  {
   "cell_type": "code",
   "execution_count": null,
   "id": "ec7573e4",
   "metadata": {},
   "outputs": [],
   "source": [
    "Salary_hike.mean()   # mean"
   ]
  },
  {
   "cell_type": "code",
   "execution_count": null,
   "id": "ada7faf5",
   "metadata": {},
   "outputs": [],
   "source": [
    "Salary_hike.var()  # variation"
   ]
  },
  {
   "cell_type": "code",
   "execution_count": null,
   "id": "4ae53dad",
   "metadata": {},
   "outputs": [],
   "source": [
    "Salary_hike.std()   # standard daviation"
   ]
  },
  {
   "cell_type": "code",
   "execution_count": null,
   "id": "d9e441d6",
   "metadata": {},
   "outputs": [],
   "source": [
    "Salary_hike.kurtosis()   "
   ]
  },
  {
   "cell_type": "code",
   "execution_count": null,
   "id": "d1629743",
   "metadata": {},
   "outputs": [],
   "source": [
    "# scatter plot betn 2 cols\n",
    "sns.scatterplot(x = 'YearsExperience', y = 'Salary',data =Salary_hike )\n",
    "plt.show()"
   ]
  },
  {
   "cell_type": "code",
   "execution_count": null,
   "id": "d5151685",
   "metadata": {},
   "outputs": [],
   "source": [
    "sns.distplot(Salary_hike['YearsExperience'])\n",
    "plt.show()"
   ]
  },
  {
   "cell_type": "code",
   "execution_count": null,
   "id": "784a968b",
   "metadata": {},
   "outputs": [],
   "source": [
    "sns.distplot(Salary_hike[\"Salary\"])\n",
    "plt.show()"
   ]
  },
  {
   "cell_type": "code",
   "execution_count": null,
   "id": "5853b571",
   "metadata": {},
   "outputs": [],
   "source": [
    "#sns.distplot(Salary_hike.YearsExperience,Salary_hike.Salary,bins=5)\n",
    "#plt.show()"
   ]
  },
  {
   "cell_type": "code",
   "execution_count": null,
   "id": "809e8187",
   "metadata": {},
   "outputs": [],
   "source": [
    "sns.distplot(Salary_hike)\n",
    "plt.show()"
   ]
  },
  {
   "cell_type": "code",
   "execution_count": null,
   "id": "de5ef1dd",
   "metadata": {},
   "outputs": [],
   "source": [
    "sns.boxplot(Salary_hike.YearsExperience)\n",
    "plt.show()"
   ]
  },
  {
   "cell_type": "code",
   "execution_count": null,
   "id": "94d9a249",
   "metadata": {},
   "outputs": [],
   "source": [
    "sns.boxplot(Salary_hike.Salary)\n",
    "plt.show()"
   ]
  },
  {
   "cell_type": "code",
   "execution_count": null,
   "id": "f7160676",
   "metadata": {},
   "outputs": [],
   "source": [
    "plt.boxplot(Salary_hike)\n",
    "plt.show()"
   ]
  },
  {
   "cell_type": "code",
   "execution_count": null,
   "id": "27728047",
   "metadata": {},
   "outputs": [],
   "source": [
    "# regression plot max data is in simple linear form\n",
    "sns.regplot(x = 'YearsExperience', y='Salary', data =Salary_hike )\n",
    "plt.show()"
   ]
  },
  {
   "cell_type": "code",
   "execution_count": null,
   "id": "2217387b",
   "metadata": {},
   "outputs": [],
   "source": [
    "\"\"\"called Ordinary Least-Squares (OLS) Regression, \n",
    "is probably the most commonly used technique in Statistical Learning. using this tech. we fitting the model\"\"\"\n",
    "model = smf.ols(\"YearsExperience ~ Salary\",data = Salary_hike).fit()"
   ]
  },
  {
   "cell_type": "code",
   "execution_count": null,
   "id": "afa92ab4",
   "metadata": {},
   "outputs": [],
   "source": [
    "model"
   ]
  },
  {
   "cell_type": "code",
   "execution_count": null,
   "id": "2536db68",
   "metadata": {},
   "outputs": [],
   "source": [
    "model.summary()\n",
    "# summary() function return a summarized representation of the Index. \n",
    "# This function is similar to what we have for the dataframes."
   ]
  },
  {
   "cell_type": "code",
   "execution_count": null,
   "id": "aaab4944",
   "metadata": {},
   "outputs": [],
   "source": [
    "model.tvalues, model.pvalues  \n",
    "# P & T values"
   ]
  },
  {
   "cell_type": "code",
   "execution_count": null,
   "id": "1548a612",
   "metadata": {},
   "outputs": [],
   "source": [
    "model.params"
   ]
  },
  {
   "cell_type": "code",
   "execution_count": null,
   "id": "9a6099d6",
   "metadata": {},
   "outputs": [],
   "source": [
    "model.rsquared , model.rsquared_adj"
   ]
  },
  {
   "cell_type": "code",
   "execution_count": null,
   "id": "d2b73633",
   "metadata": {},
   "outputs": [],
   "source": [
    "# Manual prediction for say 3 Years Experience\n",
    "Salary = (25792.200199) + (9449.962321)*(3)\n",
    "Salary"
   ]
  },
  {
   "cell_type": "markdown",
   "id": "46090d9c",
   "metadata": {},
   "source": [
    " Automatic Prediction for say 3 & 5 Years Experience "
   ]
  },
  {
   "cell_type": "code",
   "execution_count": null,
   "id": "98f3f396",
   "metadata": {},
   "outputs": [],
   "source": [
    "new_data=pd.Series([3,5])\n",
    "new_data"
   ]
  },
  {
   "cell_type": "code",
   "execution_count": null,
   "id": "49cb3c02",
   "metadata": {},
   "outputs": [],
   "source": [
    "data_pred=pd.DataFrame(new_data,columns=['YearsExperience'])\n",
    "data_pred"
   ]
  },
  {
   "cell_type": "code",
   "execution_count": null,
   "id": "fdf9b2ff",
   "metadata": {},
   "outputs": [],
   "source": []
  },
  {
   "cell_type": "code",
   "execution_count": null,
   "id": "c19995ba",
   "metadata": {},
   "outputs": [],
   "source": []
  },
  {
   "cell_type": "code",
   "execution_count": null,
   "id": "0d007ec0",
   "metadata": {},
   "outputs": [],
   "source": []
  }
 ],
 "metadata": {
  "kernelspec": {
   "display_name": "Python 3",
   "language": "python",
   "name": "python3"
  },
  "language_info": {
   "codemirror_mode": {
    "name": "ipython",
    "version": 3
   },
   "file_extension": ".py",
   "mimetype": "text/x-python",
   "name": "python",
   "nbconvert_exporter": "python",
   "pygments_lexer": "ipython3",
   "version": "3.8.8"
  }
 },
 "nbformat": 4,
 "nbformat_minor": 5
}
